{
 "cells": [
  {
   "cell_type": "code",
   "execution_count": 1,
   "id": "607a7937-4f8a-4385-b986-3157b7bb4806",
   "metadata": {},
   "outputs": [],
   "source": [
    "# !pip install pandas\n",
    "# !pip install numpy\n",
    "# !pip install nltk\n",
    "# !pip install tensorflow\n",
    "# !pip install scikit-learn\n",
    "# !pip install matplotlib\n",
    "# !pip install seaborn\n",
    "# !pip install PyPDF2\n",
    "# !pip install joblib\n"
   ]
  },
  {
   "cell_type": "code",
   "execution_count": 2,
   "id": "b7844fd8-a091-4d9e-8db0-d6de422f778f",
   "metadata": {},
   "outputs": [],
   "source": [
    "import pandas as pd"
   ]
  },
  {
   "cell_type": "code",
   "execution_count": 3,
   "id": "ec0cae97-7717-4ac7-8c85-f35d0cfd307c",
   "metadata": {},
   "outputs": [],
   "source": [
    "import numpy as np"
   ]
  },
  {
   "cell_type": "code",
   "execution_count": 5,
   "id": "5aec31e7-c9b9-49f7-b225-86f95c40b66e",
   "metadata": {},
   "outputs": [],
   "source": [
    "import nltk\n",
    "from nltk.corpus import stopwords\n",
    "from nltk.tokenize import word_tokenize\n",
    "from nltk.stem import WordNetLemmatizer"
   ]
  },
  {
   "cell_type": "code",
   "execution_count": 6,
   "id": "b8022f72-8179-4950-899e-fd32dfe8d270",
   "metadata": {},
   "outputs": [
    {
     "name": "stderr",
     "output_type": "stream",
     "text": [
      "[nltk_data] Downloading package punkt to\n",
      "[nltk_data]     C:\\Users\\raj\\AppData\\Roaming\\nltk_data...\n",
      "[nltk_data]   Package punkt is already up-to-date!\n",
      "[nltk_data] Downloading package stopwords to\n",
      "[nltk_data]     C:\\Users\\raj\\AppData\\Roaming\\nltk_data...\n",
      "[nltk_data]   Package stopwords is already up-to-date!\n",
      "[nltk_data] Downloading package wordnet to\n",
      "[nltk_data]     C:\\Users\\raj\\AppData\\Roaming\\nltk_data...\n",
      "[nltk_data]   Package wordnet is already up-to-date!\n"
     ]
    },
    {
     "data": {
      "text/plain": [
       "True"
      ]
     },
     "execution_count": 6,
     "metadata": {},
     "output_type": "execute_result"
    }
   ],
   "source": [
    "\n",
    "nltk.download('punkt')\n",
    "nltk.download('stopwords')\n",
    "nltk.download('wordnet')"
   ]
  },
  {
   "cell_type": "code",
   "execution_count": 7,
   "id": "6286300d-13b8-4b9a-b1d0-ea13b65ebfe9",
   "metadata": {},
   "outputs": [],
   "source": [
    "import tensorflow as tf"
   ]
  },
  {
   "cell_type": "code",
   "execution_count": 8,
   "id": "67a94a61-fc90-4695-8ae8-6f6732b86464",
   "metadata": {},
   "outputs": [],
   "source": [
    "import sklearn"
   ]
  },
  {
   "cell_type": "code",
   "execution_count": 9,
   "id": "9541d876-2123-4a2e-8ef4-cc503915fc91",
   "metadata": {},
   "outputs": [],
   "source": [
    "import matplotlib.pyplot "
   ]
  },
  {
   "cell_type": "code",
   "execution_count": 10,
   "id": "f0c7f7f5-450d-40db-85e3-3f900775a71a",
   "metadata": {},
   "outputs": [],
   "source": [
    "import seaborn as sns"
   ]
  },
  {
   "cell_type": "code",
   "execution_count": 11,
   "id": "ca5a9843-379e-4ffb-8d89-adf62b4e78b1",
   "metadata": {},
   "outputs": [],
   "source": [
    "import PyPDF2"
   ]
  },
  {
   "cell_type": "code",
   "execution_count": 12,
   "id": "ac0a8981-bfde-4d05-ac73-4b5563b190bf",
   "metadata": {},
   "outputs": [],
   "source": [
    "import joblib"
   ]
  },
  {
   "cell_type": "code",
   "execution_count": 13,
   "id": "054073c5-3fec-4243-bc53-822aa9d9946e",
   "metadata": {},
   "outputs": [
    {
     "name": "stdout",
     "output_type": "stream",
     "text": [
      "Versions of Installed Modules:\n",
      "Pandas version: 2.2.3\n",
      "NumPy version: 1.26.4\n",
      "NLTK version: 3.9.1\n",
      "TensorFlow version: 2.18.0\n",
      "Scikit-learn version: 1.5.2\n",
      "Matplotlib version: 3.9.2\n",
      "Seaborn version: 0.13.2\n",
      "PyPDF2 version: 3.0.1\n",
      "Joblib version: 1.4.2\n"
     ]
    }
   ],
   "source": [
    "print(\"Versions of Installed Modules:\")\n",
    "print(f\"Pandas version: {pd.__version__}\")\n",
    "print(f\"NumPy version: {np.__version__}\")\n",
    "print(f\"NLTK version: {nltk.__version__}\")\n",
    "print(f\"TensorFlow version: {tf.__version__}\")\n",
    "print(f\"Scikit-learn version: {sklearn.__version__}\")\n",
    "print(f\"Matplotlib version: {matplotlib.__version__}\")\n",
    "print(f\"Seaborn version: {sns.__version__}\")\n",
    "print(f\"PyPDF2 version: {PyPDF2.__version__}\")\n",
    "print(f\"Joblib version: {joblib.__version__}\")"
   ]
  },
  {
   "cell_type": "markdown",
   "id": "5819b31a-2f49-497a-adb6-42a43ce1178d",
   "metadata": {},
   "source": [
    "# Import the dataset "
   ]
  },
  {
   "cell_type": "code",
   "execution_count": 14,
   "id": "d1cee0dc-52c8-4d67-94d0-c8099c6ee270",
   "metadata": {},
   "outputs": [],
   "source": [
    "df = pd.read_csv(\"UpdatedResumeDataSet.csv\")"
   ]
  },
  {
   "cell_type": "code",
   "execution_count": 15,
   "id": "541dc885-cc6a-4815-a2ef-93502934237e",
   "metadata": {},
   "outputs": [
    {
     "data": {
      "text/html": [
       "<div>\n",
       "<style scoped>\n",
       "    .dataframe tbody tr th:only-of-type {\n",
       "        vertical-align: middle;\n",
       "    }\n",
       "\n",
       "    .dataframe tbody tr th {\n",
       "        vertical-align: top;\n",
       "    }\n",
       "\n",
       "    .dataframe thead th {\n",
       "        text-align: right;\n",
       "    }\n",
       "</style>\n",
       "<table border=\"1\" class=\"dataframe\">\n",
       "  <thead>\n",
       "    <tr style=\"text-align: right;\">\n",
       "      <th></th>\n",
       "      <th>Category</th>\n",
       "      <th>Resume</th>\n",
       "    </tr>\n",
       "  </thead>\n",
       "  <tbody>\n",
       "    <tr>\n",
       "      <th>0</th>\n",
       "      <td>Data Science</td>\n",
       "      <td>Skills * Programming Languages: Python (pandas...</td>\n",
       "    </tr>\n",
       "  </tbody>\n",
       "</table>\n",
       "</div>"
      ],
      "text/plain": [
       "       Category                                             Resume\n",
       "0  Data Science  Skills * Programming Languages: Python (pandas..."
      ]
     },
     "execution_count": 15,
     "metadata": {},
     "output_type": "execute_result"
    }
   ],
   "source": [
    "df.head(1)"
   ]
  },
  {
   "cell_type": "markdown",
   "id": "2d04f5eb-9a47-42fa-91f0-05d90b59a2c7",
   "metadata": {},
   "source": [
    "# Check for unique value of output"
   ]
  },
  {
   "cell_type": "code",
   "execution_count": 16,
   "id": "f07a3ca9-df91-4a30-a0b2-6e1b65b5af63",
   "metadata": {},
   "outputs": [
    {
     "data": {
      "text/plain": [
       "Category\n",
       "Java Developer               84\n",
       "Testing                      70\n",
       "DevOps Engineer              55\n",
       "Python Developer             48\n",
       "Web Designing                45\n",
       "HR                           44\n",
       "Hadoop                       42\n",
       "Blockchain                   40\n",
       "ETL Developer                40\n",
       "Operations Manager           40\n",
       "Data Science                 40\n",
       "Sales                        40\n",
       "Mechanical Engineer          40\n",
       "Arts                         36\n",
       "Database                     33\n",
       "Electrical Engineering       30\n",
       "Health and fitness           30\n",
       "PMO                          30\n",
       "Business Analyst             28\n",
       "DotNet Developer             28\n",
       "Automation Testing           26\n",
       "Network Security Engineer    25\n",
       "SAP Developer                24\n",
       "Civil Engineer               24\n",
       "Advocate                     20\n",
       "Name: count, dtype: int64"
      ]
     },
     "execution_count": 16,
     "metadata": {},
     "output_type": "execute_result"
    }
   ],
   "source": [
    "df['Category'].value_counts()"
   ]
  },
  {
   "cell_type": "code",
   "execution_count": 17,
   "id": "ead39766-1d48-48b7-a492-352c0a747bdf",
   "metadata": {},
   "outputs": [
    {
     "data": {
      "text/plain": [
       "array(['Data Science', 'HR', 'Advocate', 'Arts', 'Web Designing',\n",
       "       'Mechanical Engineer', 'Sales', 'Health and fitness',\n",
       "       'Civil Engineer', 'Java Developer', 'Business Analyst',\n",
       "       'SAP Developer', 'Automation Testing', 'Electrical Engineering',\n",
       "       'Operations Manager', 'Python Developer', 'DevOps Engineer',\n",
       "       'Network Security Engineer', 'PMO', 'Database', 'Hadoop',\n",
       "       'ETL Developer', 'DotNet Developer', 'Blockchain', 'Testing'],\n",
       "      dtype=object)"
      ]
     },
     "execution_count": 17,
     "metadata": {},
     "output_type": "execute_result"
    }
   ],
   "source": [
    "df['Category'].unique()\n"
   ]
  },
  {
   "cell_type": "markdown",
   "id": "22acff72-042f-40ef-91a9-6e155324e3e7",
   "metadata": {},
   "source": [
    "# Check for null"
   ]
  },
  {
   "cell_type": "code",
   "execution_count": 18,
   "id": "5f2aa141-9768-477f-afc4-4d4ec8958624",
   "metadata": {},
   "outputs": [],
   "source": [
    "df.dropna(inplace=True)\n"
   ]
  },
  {
   "cell_type": "code",
   "execution_count": 19,
   "id": "940315ff-9d19-422b-a90a-309133f85970",
   "metadata": {},
   "outputs": [
    {
     "data": {
      "text/plain": [
       "(962, 2)"
      ]
     },
     "execution_count": 19,
     "metadata": {},
     "output_type": "execute_result"
    }
   ],
   "source": [
    "df.shape"
   ]
  },
  {
   "cell_type": "markdown",
   "id": "e2cf2a15-7122-468a-87e6-84622f5bf0ee",
   "metadata": {},
   "source": [
    "# Preprocesss the text :\n",
    " remove stop words \n",
    " \n",
    " tokenizing the text \n",
    " \n",
    " lemmatize the word "
   ]
  },
  {
   "cell_type": "code",
   "execution_count": 20,
   "id": "0848d7bd-3485-4d33-a22c-4105e03788be",
   "metadata": {},
   "outputs": [],
   "source": [
    "def preprocess_text(text):\n",
    "    stop_words = set(stopwords.words('english'))\n",
    "    tokens = word_tokenize(text.lower())\n",
    "    lemmatizer = WordNetLemmatizer()\n",
    "    return \" \".join(\n",
    "        lemmatizer.lemmatize(word)\n",
    "        for word in tokens\n",
    "        if word.isalnum() and word not in stop_words\n",
    "    )"
   ]
  },
  {
   "cell_type": "code",
   "execution_count": 21,
   "id": "3d9b620b-09c3-465d-acbe-c39781e45540",
   "metadata": {},
   "outputs": [
    {
     "data": {
      "text/html": [
       "<div>\n",
       "<style scoped>\n",
       "    .dataframe tbody tr th:only-of-type {\n",
       "        vertical-align: middle;\n",
       "    }\n",
       "\n",
       "    .dataframe tbody tr th {\n",
       "        vertical-align: top;\n",
       "    }\n",
       "\n",
       "    .dataframe thead th {\n",
       "        text-align: right;\n",
       "    }\n",
       "</style>\n",
       "<table border=\"1\" class=\"dataframe\">\n",
       "  <thead>\n",
       "    <tr style=\"text-align: right;\">\n",
       "      <th></th>\n",
       "      <th>Category</th>\n",
       "      <th>Resume</th>\n",
       "      <th>Preprocess_Resume</th>\n",
       "    </tr>\n",
       "  </thead>\n",
       "  <tbody>\n",
       "    <tr>\n",
       "      <th>0</th>\n",
       "      <td>Data Science</td>\n",
       "      <td>Skills * Programming Languages: Python (pandas...</td>\n",
       "      <td>skill programming language python panda numpy ...</td>\n",
       "    </tr>\n",
       "    <tr>\n",
       "      <th>1</th>\n",
       "      <td>Data Science</td>\n",
       "      <td>Education Details \\r\\nMay 2013 to May 2017 B.E...</td>\n",
       "      <td>education detail may 2013 may 2017 data scient...</td>\n",
       "    </tr>\n",
       "    <tr>\n",
       "      <th>2</th>\n",
       "      <td>Data Science</td>\n",
       "      <td>Areas of Interest Deep Learning, Control Syste...</td>\n",
       "      <td>area interest deep learning control system des...</td>\n",
       "    </tr>\n",
       "    <tr>\n",
       "      <th>3</th>\n",
       "      <td>Data Science</td>\n",
       "      <td>Skills â¢ R â¢ Python â¢ SAP HANA â¢ Table...</td>\n",
       "      <td>skill r python sap hana tableau sap hana sql s...</td>\n",
       "    </tr>\n",
       "    <tr>\n",
       "      <th>4</th>\n",
       "      <td>Data Science</td>\n",
       "      <td>Education Details \\r\\n MCA   YMCAUST,  Faridab...</td>\n",
       "      <td>education detail mca ymcaust faridabad haryana...</td>\n",
       "    </tr>\n",
       "  </tbody>\n",
       "</table>\n",
       "</div>"
      ],
      "text/plain": [
       "       Category                                             Resume  \\\n",
       "0  Data Science  Skills * Programming Languages: Python (pandas...   \n",
       "1  Data Science  Education Details \\r\\nMay 2013 to May 2017 B.E...   \n",
       "2  Data Science  Areas of Interest Deep Learning, Control Syste...   \n",
       "3  Data Science  Skills â¢ R â¢ Python â¢ SAP HANA â¢ Table...   \n",
       "4  Data Science  Education Details \\r\\n MCA   YMCAUST,  Faridab...   \n",
       "\n",
       "                                   Preprocess_Resume  \n",
       "0  skill programming language python panda numpy ...  \n",
       "1  education detail may 2013 may 2017 data scient...  \n",
       "2  area interest deep learning control system des...  \n",
       "3  skill r python sap hana tableau sap hana sql s...  \n",
       "4  education detail mca ymcaust faridabad haryana...  "
      ]
     },
     "execution_count": 21,
     "metadata": {},
     "output_type": "execute_result"
    }
   ],
   "source": [
    "df['Preprocess_Resume'] = df['Resume'].apply(preprocess_text)\n",
    "df.head()"
   ]
  },
  {
   "cell_type": "markdown",
   "id": "ca055160-ba47-4026-9bef-0542707aa8a0",
   "metadata": {},
   "source": [
    "# Convert the Output text into numbers or label using LabelEncoder"
   ]
  },
  {
   "cell_type": "code",
   "execution_count": 22,
   "id": "e72ecb69-f983-4902-9691-2423f8ac5add",
   "metadata": {},
   "outputs": [],
   "source": [
    "from sklearn.preprocessing import LabelEncoder "
   ]
  },
  {
   "cell_type": "code",
   "execution_count": 23,
   "id": "32719974-a00a-43a1-8d7f-d8ba7dd821aa",
   "metadata": {},
   "outputs": [],
   "source": [
    "label = LabelEncoder()\n",
    "\n"
   ]
  },
  {
   "cell_type": "code",
   "execution_count": 24,
   "id": "35616bdf-e9b9-4a82-be35-d5280a600315",
   "metadata": {},
   "outputs": [
    {
     "data": {
      "text/html": [
       "<style>#sk-container-id-1 {\n",
       "  /* Definition of color scheme common for light and dark mode */\n",
       "  --sklearn-color-text: black;\n",
       "  --sklearn-color-line: gray;\n",
       "  /* Definition of color scheme for unfitted estimators */\n",
       "  --sklearn-color-unfitted-level-0: #fff5e6;\n",
       "  --sklearn-color-unfitted-level-1: #f6e4d2;\n",
       "  --sklearn-color-unfitted-level-2: #ffe0b3;\n",
       "  --sklearn-color-unfitted-level-3: chocolate;\n",
       "  /* Definition of color scheme for fitted estimators */\n",
       "  --sklearn-color-fitted-level-0: #f0f8ff;\n",
       "  --sklearn-color-fitted-level-1: #d4ebff;\n",
       "  --sklearn-color-fitted-level-2: #b3dbfd;\n",
       "  --sklearn-color-fitted-level-3: cornflowerblue;\n",
       "\n",
       "  /* Specific color for light theme */\n",
       "  --sklearn-color-text-on-default-background: var(--sg-text-color, var(--theme-code-foreground, var(--jp-content-font-color1, black)));\n",
       "  --sklearn-color-background: var(--sg-background-color, var(--theme-background, var(--jp-layout-color0, white)));\n",
       "  --sklearn-color-border-box: var(--sg-text-color, var(--theme-code-foreground, var(--jp-content-font-color1, black)));\n",
       "  --sklearn-color-icon: #696969;\n",
       "\n",
       "  @media (prefers-color-scheme: dark) {\n",
       "    /* Redefinition of color scheme for dark theme */\n",
       "    --sklearn-color-text-on-default-background: var(--sg-text-color, var(--theme-code-foreground, var(--jp-content-font-color1, white)));\n",
       "    --sklearn-color-background: var(--sg-background-color, var(--theme-background, var(--jp-layout-color0, #111)));\n",
       "    --sklearn-color-border-box: var(--sg-text-color, var(--theme-code-foreground, var(--jp-content-font-color1, white)));\n",
       "    --sklearn-color-icon: #878787;\n",
       "  }\n",
       "}\n",
       "\n",
       "#sk-container-id-1 {\n",
       "  color: var(--sklearn-color-text);\n",
       "}\n",
       "\n",
       "#sk-container-id-1 pre {\n",
       "  padding: 0;\n",
       "}\n",
       "\n",
       "#sk-container-id-1 input.sk-hidden--visually {\n",
       "  border: 0;\n",
       "  clip: rect(1px 1px 1px 1px);\n",
       "  clip: rect(1px, 1px, 1px, 1px);\n",
       "  height: 1px;\n",
       "  margin: -1px;\n",
       "  overflow: hidden;\n",
       "  padding: 0;\n",
       "  position: absolute;\n",
       "  width: 1px;\n",
       "}\n",
       "\n",
       "#sk-container-id-1 div.sk-dashed-wrapped {\n",
       "  border: 1px dashed var(--sklearn-color-line);\n",
       "  margin: 0 0.4em 0.5em 0.4em;\n",
       "  box-sizing: border-box;\n",
       "  padding-bottom: 0.4em;\n",
       "  background-color: var(--sklearn-color-background);\n",
       "}\n",
       "\n",
       "#sk-container-id-1 div.sk-container {\n",
       "  /* jupyter's `normalize.less` sets `[hidden] { display: none; }`\n",
       "     but bootstrap.min.css set `[hidden] { display: none !important; }`\n",
       "     so we also need the `!important` here to be able to override the\n",
       "     default hidden behavior on the sphinx rendered scikit-learn.org.\n",
       "     See: https://github.com/scikit-learn/scikit-learn/issues/21755 */\n",
       "  display: inline-block !important;\n",
       "  position: relative;\n",
       "}\n",
       "\n",
       "#sk-container-id-1 div.sk-text-repr-fallback {\n",
       "  display: none;\n",
       "}\n",
       "\n",
       "div.sk-parallel-item,\n",
       "div.sk-serial,\n",
       "div.sk-item {\n",
       "  /* draw centered vertical line to link estimators */\n",
       "  background-image: linear-gradient(var(--sklearn-color-text-on-default-background), var(--sklearn-color-text-on-default-background));\n",
       "  background-size: 2px 100%;\n",
       "  background-repeat: no-repeat;\n",
       "  background-position: center center;\n",
       "}\n",
       "\n",
       "/* Parallel-specific style estimator block */\n",
       "\n",
       "#sk-container-id-1 div.sk-parallel-item::after {\n",
       "  content: \"\";\n",
       "  width: 100%;\n",
       "  border-bottom: 2px solid var(--sklearn-color-text-on-default-background);\n",
       "  flex-grow: 1;\n",
       "}\n",
       "\n",
       "#sk-container-id-1 div.sk-parallel {\n",
       "  display: flex;\n",
       "  align-items: stretch;\n",
       "  justify-content: center;\n",
       "  background-color: var(--sklearn-color-background);\n",
       "  position: relative;\n",
       "}\n",
       "\n",
       "#sk-container-id-1 div.sk-parallel-item {\n",
       "  display: flex;\n",
       "  flex-direction: column;\n",
       "}\n",
       "\n",
       "#sk-container-id-1 div.sk-parallel-item:first-child::after {\n",
       "  align-self: flex-end;\n",
       "  width: 50%;\n",
       "}\n",
       "\n",
       "#sk-container-id-1 div.sk-parallel-item:last-child::after {\n",
       "  align-self: flex-start;\n",
       "  width: 50%;\n",
       "}\n",
       "\n",
       "#sk-container-id-1 div.sk-parallel-item:only-child::after {\n",
       "  width: 0;\n",
       "}\n",
       "\n",
       "/* Serial-specific style estimator block */\n",
       "\n",
       "#sk-container-id-1 div.sk-serial {\n",
       "  display: flex;\n",
       "  flex-direction: column;\n",
       "  align-items: center;\n",
       "  background-color: var(--sklearn-color-background);\n",
       "  padding-right: 1em;\n",
       "  padding-left: 1em;\n",
       "}\n",
       "\n",
       "\n",
       "/* Toggleable style: style used for estimator/Pipeline/ColumnTransformer box that is\n",
       "clickable and can be expanded/collapsed.\n",
       "- Pipeline and ColumnTransformer use this feature and define the default style\n",
       "- Estimators will overwrite some part of the style using the `sk-estimator` class\n",
       "*/\n",
       "\n",
       "/* Pipeline and ColumnTransformer style (default) */\n",
       "\n",
       "#sk-container-id-1 div.sk-toggleable {\n",
       "  /* Default theme specific background. It is overwritten whether we have a\n",
       "  specific estimator or a Pipeline/ColumnTransformer */\n",
       "  background-color: var(--sklearn-color-background);\n",
       "}\n",
       "\n",
       "/* Toggleable label */\n",
       "#sk-container-id-1 label.sk-toggleable__label {\n",
       "  cursor: pointer;\n",
       "  display: block;\n",
       "  width: 100%;\n",
       "  margin-bottom: 0;\n",
       "  padding: 0.5em;\n",
       "  box-sizing: border-box;\n",
       "  text-align: center;\n",
       "}\n",
       "\n",
       "#sk-container-id-1 label.sk-toggleable__label-arrow:before {\n",
       "  /* Arrow on the left of the label */\n",
       "  content: \"▸\";\n",
       "  float: left;\n",
       "  margin-right: 0.25em;\n",
       "  color: var(--sklearn-color-icon);\n",
       "}\n",
       "\n",
       "#sk-container-id-1 label.sk-toggleable__label-arrow:hover:before {\n",
       "  color: var(--sklearn-color-text);\n",
       "}\n",
       "\n",
       "/* Toggleable content - dropdown */\n",
       "\n",
       "#sk-container-id-1 div.sk-toggleable__content {\n",
       "  max-height: 0;\n",
       "  max-width: 0;\n",
       "  overflow: hidden;\n",
       "  text-align: left;\n",
       "  /* unfitted */\n",
       "  background-color: var(--sklearn-color-unfitted-level-0);\n",
       "}\n",
       "\n",
       "#sk-container-id-1 div.sk-toggleable__content.fitted {\n",
       "  /* fitted */\n",
       "  background-color: var(--sklearn-color-fitted-level-0);\n",
       "}\n",
       "\n",
       "#sk-container-id-1 div.sk-toggleable__content pre {\n",
       "  margin: 0.2em;\n",
       "  border-radius: 0.25em;\n",
       "  color: var(--sklearn-color-text);\n",
       "  /* unfitted */\n",
       "  background-color: var(--sklearn-color-unfitted-level-0);\n",
       "}\n",
       "\n",
       "#sk-container-id-1 div.sk-toggleable__content.fitted pre {\n",
       "  /* unfitted */\n",
       "  background-color: var(--sklearn-color-fitted-level-0);\n",
       "}\n",
       "\n",
       "#sk-container-id-1 input.sk-toggleable__control:checked~div.sk-toggleable__content {\n",
       "  /* Expand drop-down */\n",
       "  max-height: 200px;\n",
       "  max-width: 100%;\n",
       "  overflow: auto;\n",
       "}\n",
       "\n",
       "#sk-container-id-1 input.sk-toggleable__control:checked~label.sk-toggleable__label-arrow:before {\n",
       "  content: \"▾\";\n",
       "}\n",
       "\n",
       "/* Pipeline/ColumnTransformer-specific style */\n",
       "\n",
       "#sk-container-id-1 div.sk-label input.sk-toggleable__control:checked~label.sk-toggleable__label {\n",
       "  color: var(--sklearn-color-text);\n",
       "  background-color: var(--sklearn-color-unfitted-level-2);\n",
       "}\n",
       "\n",
       "#sk-container-id-1 div.sk-label.fitted input.sk-toggleable__control:checked~label.sk-toggleable__label {\n",
       "  background-color: var(--sklearn-color-fitted-level-2);\n",
       "}\n",
       "\n",
       "/* Estimator-specific style */\n",
       "\n",
       "/* Colorize estimator box */\n",
       "#sk-container-id-1 div.sk-estimator input.sk-toggleable__control:checked~label.sk-toggleable__label {\n",
       "  /* unfitted */\n",
       "  background-color: var(--sklearn-color-unfitted-level-2);\n",
       "}\n",
       "\n",
       "#sk-container-id-1 div.sk-estimator.fitted input.sk-toggleable__control:checked~label.sk-toggleable__label {\n",
       "  /* fitted */\n",
       "  background-color: var(--sklearn-color-fitted-level-2);\n",
       "}\n",
       "\n",
       "#sk-container-id-1 div.sk-label label.sk-toggleable__label,\n",
       "#sk-container-id-1 div.sk-label label {\n",
       "  /* The background is the default theme color */\n",
       "  color: var(--sklearn-color-text-on-default-background);\n",
       "}\n",
       "\n",
       "/* On hover, darken the color of the background */\n",
       "#sk-container-id-1 div.sk-label:hover label.sk-toggleable__label {\n",
       "  color: var(--sklearn-color-text);\n",
       "  background-color: var(--sklearn-color-unfitted-level-2);\n",
       "}\n",
       "\n",
       "/* Label box, darken color on hover, fitted */\n",
       "#sk-container-id-1 div.sk-label.fitted:hover label.sk-toggleable__label.fitted {\n",
       "  color: var(--sklearn-color-text);\n",
       "  background-color: var(--sklearn-color-fitted-level-2);\n",
       "}\n",
       "\n",
       "/* Estimator label */\n",
       "\n",
       "#sk-container-id-1 div.sk-label label {\n",
       "  font-family: monospace;\n",
       "  font-weight: bold;\n",
       "  display: inline-block;\n",
       "  line-height: 1.2em;\n",
       "}\n",
       "\n",
       "#sk-container-id-1 div.sk-label-container {\n",
       "  text-align: center;\n",
       "}\n",
       "\n",
       "/* Estimator-specific */\n",
       "#sk-container-id-1 div.sk-estimator {\n",
       "  font-family: monospace;\n",
       "  border: 1px dotted var(--sklearn-color-border-box);\n",
       "  border-radius: 0.25em;\n",
       "  box-sizing: border-box;\n",
       "  margin-bottom: 0.5em;\n",
       "  /* unfitted */\n",
       "  background-color: var(--sklearn-color-unfitted-level-0);\n",
       "}\n",
       "\n",
       "#sk-container-id-1 div.sk-estimator.fitted {\n",
       "  /* fitted */\n",
       "  background-color: var(--sklearn-color-fitted-level-0);\n",
       "}\n",
       "\n",
       "/* on hover */\n",
       "#sk-container-id-1 div.sk-estimator:hover {\n",
       "  /* unfitted */\n",
       "  background-color: var(--sklearn-color-unfitted-level-2);\n",
       "}\n",
       "\n",
       "#sk-container-id-1 div.sk-estimator.fitted:hover {\n",
       "  /* fitted */\n",
       "  background-color: var(--sklearn-color-fitted-level-2);\n",
       "}\n",
       "\n",
       "/* Specification for estimator info (e.g. \"i\" and \"?\") */\n",
       "\n",
       "/* Common style for \"i\" and \"?\" */\n",
       "\n",
       ".sk-estimator-doc-link,\n",
       "a:link.sk-estimator-doc-link,\n",
       "a:visited.sk-estimator-doc-link {\n",
       "  float: right;\n",
       "  font-size: smaller;\n",
       "  line-height: 1em;\n",
       "  font-family: monospace;\n",
       "  background-color: var(--sklearn-color-background);\n",
       "  border-radius: 1em;\n",
       "  height: 1em;\n",
       "  width: 1em;\n",
       "  text-decoration: none !important;\n",
       "  margin-left: 1ex;\n",
       "  /* unfitted */\n",
       "  border: var(--sklearn-color-unfitted-level-1) 1pt solid;\n",
       "  color: var(--sklearn-color-unfitted-level-1);\n",
       "}\n",
       "\n",
       ".sk-estimator-doc-link.fitted,\n",
       "a:link.sk-estimator-doc-link.fitted,\n",
       "a:visited.sk-estimator-doc-link.fitted {\n",
       "  /* fitted */\n",
       "  border: var(--sklearn-color-fitted-level-1) 1pt solid;\n",
       "  color: var(--sklearn-color-fitted-level-1);\n",
       "}\n",
       "\n",
       "/* On hover */\n",
       "div.sk-estimator:hover .sk-estimator-doc-link:hover,\n",
       ".sk-estimator-doc-link:hover,\n",
       "div.sk-label-container:hover .sk-estimator-doc-link:hover,\n",
       ".sk-estimator-doc-link:hover {\n",
       "  /* unfitted */\n",
       "  background-color: var(--sklearn-color-unfitted-level-3);\n",
       "  color: var(--sklearn-color-background);\n",
       "  text-decoration: none;\n",
       "}\n",
       "\n",
       "div.sk-estimator.fitted:hover .sk-estimator-doc-link.fitted:hover,\n",
       ".sk-estimator-doc-link.fitted:hover,\n",
       "div.sk-label-container:hover .sk-estimator-doc-link.fitted:hover,\n",
       ".sk-estimator-doc-link.fitted:hover {\n",
       "  /* fitted */\n",
       "  background-color: var(--sklearn-color-fitted-level-3);\n",
       "  color: var(--sklearn-color-background);\n",
       "  text-decoration: none;\n",
       "}\n",
       "\n",
       "/* Span, style for the box shown on hovering the info icon */\n",
       ".sk-estimator-doc-link span {\n",
       "  display: none;\n",
       "  z-index: 9999;\n",
       "  position: relative;\n",
       "  font-weight: normal;\n",
       "  right: .2ex;\n",
       "  padding: .5ex;\n",
       "  margin: .5ex;\n",
       "  width: min-content;\n",
       "  min-width: 20ex;\n",
       "  max-width: 50ex;\n",
       "  color: var(--sklearn-color-text);\n",
       "  box-shadow: 2pt 2pt 4pt #999;\n",
       "  /* unfitted */\n",
       "  background: var(--sklearn-color-unfitted-level-0);\n",
       "  border: .5pt solid var(--sklearn-color-unfitted-level-3);\n",
       "}\n",
       "\n",
       ".sk-estimator-doc-link.fitted span {\n",
       "  /* fitted */\n",
       "  background: var(--sklearn-color-fitted-level-0);\n",
       "  border: var(--sklearn-color-fitted-level-3);\n",
       "}\n",
       "\n",
       ".sk-estimator-doc-link:hover span {\n",
       "  display: block;\n",
       "}\n",
       "\n",
       "/* \"?\"-specific style due to the `<a>` HTML tag */\n",
       "\n",
       "#sk-container-id-1 a.estimator_doc_link {\n",
       "  float: right;\n",
       "  font-size: 1rem;\n",
       "  line-height: 1em;\n",
       "  font-family: monospace;\n",
       "  background-color: var(--sklearn-color-background);\n",
       "  border-radius: 1rem;\n",
       "  height: 1rem;\n",
       "  width: 1rem;\n",
       "  text-decoration: none;\n",
       "  /* unfitted */\n",
       "  color: var(--sklearn-color-unfitted-level-1);\n",
       "  border: var(--sklearn-color-unfitted-level-1) 1pt solid;\n",
       "}\n",
       "\n",
       "#sk-container-id-1 a.estimator_doc_link.fitted {\n",
       "  /* fitted */\n",
       "  border: var(--sklearn-color-fitted-level-1) 1pt solid;\n",
       "  color: var(--sklearn-color-fitted-level-1);\n",
       "}\n",
       "\n",
       "/* On hover */\n",
       "#sk-container-id-1 a.estimator_doc_link:hover {\n",
       "  /* unfitted */\n",
       "  background-color: var(--sklearn-color-unfitted-level-3);\n",
       "  color: var(--sklearn-color-background);\n",
       "  text-decoration: none;\n",
       "}\n",
       "\n",
       "#sk-container-id-1 a.estimator_doc_link.fitted:hover {\n",
       "  /* fitted */\n",
       "  background-color: var(--sklearn-color-fitted-level-3);\n",
       "}\n",
       "</style><div id=\"sk-container-id-1\" class=\"sk-top-container\"><div class=\"sk-text-repr-fallback\"><pre>LabelEncoder()</pre><b>In a Jupyter environment, please rerun this cell to show the HTML representation or trust the notebook. <br />On GitHub, the HTML representation is unable to render, please try loading this page with nbviewer.org.</b></div><div class=\"sk-container\" hidden><div class=\"sk-item\"><div class=\"sk-estimator fitted sk-toggleable\"><input class=\"sk-toggleable__control sk-hidden--visually\" id=\"sk-estimator-id-1\" type=\"checkbox\" checked><label for=\"sk-estimator-id-1\" class=\"sk-toggleable__label fitted sk-toggleable__label-arrow fitted\">&nbsp;&nbsp;LabelEncoder<a class=\"sk-estimator-doc-link fitted\" rel=\"noreferrer\" target=\"_blank\" href=\"https://scikit-learn.org/1.5/modules/generated/sklearn.preprocessing.LabelEncoder.html\">?<span>Documentation for LabelEncoder</span></a><span class=\"sk-estimator-doc-link fitted\">i<span>Fitted</span></span></label><div class=\"sk-toggleable__content fitted\"><pre>LabelEncoder()</pre></div> </div></div></div></div>"
      ],
      "text/plain": [
       "LabelEncoder()"
      ]
     },
     "execution_count": 24,
     "metadata": {},
     "output_type": "execute_result"
    }
   ],
   "source": [
    "label.fit(df['Category'])\n"
   ]
  },
  {
   "cell_type": "code",
   "execution_count": 25,
   "id": "65adc6ae-0ef0-4b9d-98fa-1ceac4685ccf",
   "metadata": {},
   "outputs": [],
   "source": [
    "df['Category'] = label.transform(df['Category'])"
   ]
  },
  {
   "cell_type": "code",
   "execution_count": 26,
   "id": "69ec5bf6-dea0-4d98-9192-a6d672344c33",
   "metadata": {},
   "outputs": [
    {
     "data": {
      "text/plain": [
       "Category\n",
       "15    84\n",
       "23    70\n",
       "8     55\n",
       "20    48\n",
       "24    45\n",
       "12    44\n",
       "13    42\n",
       "3     40\n",
       "10    40\n",
       "18    40\n",
       "6     40\n",
       "22    40\n",
       "16    40\n",
       "1     36\n",
       "7     33\n",
       "11    30\n",
       "14    30\n",
       "19    30\n",
       "4     28\n",
       "9     28\n",
       "2     26\n",
       "17    25\n",
       "21    24\n",
       "5     24\n",
       "0     20\n",
       "Name: count, dtype: int64"
      ]
     },
     "execution_count": 26,
     "metadata": {},
     "output_type": "execute_result"
    }
   ],
   "source": [
    "df['Category'].value_counts()"
   ]
  },
  {
   "cell_type": "code",
   "execution_count": 27,
   "id": "6a65728e-894f-4eb5-9599-0d8cfd82fde8",
   "metadata": {},
   "outputs": [],
   "source": [
    "import tensorflow"
   ]
  },
  {
   "cell_type": "code",
   "execution_count": 28,
   "id": "aa99af05-677e-4e7f-9b58-e54611ef234e",
   "metadata": {},
   "outputs": [],
   "source": [
    "from tensorflow import  keras"
   ]
  },
  {
   "cell_type": "code",
   "execution_count": 29,
   "id": "5d74314c-8f10-4ec4-ba88-cc013748ec13",
   "metadata": {},
   "outputs": [],
   "source": [
    "from tensorflow.keras.preprocessing.text import Tokenizer "
   ]
  },
  {
   "cell_type": "markdown",
   "id": "50cca051-6bfa-473e-81bb-da0689687b16",
   "metadata": {},
   "source": [
    "# Tokenization and Sequence Padding"
   ]
  },
  {
   "cell_type": "code",
   "execution_count": 30,
   "id": "8821ea69-4d42-4d85-bf5e-75b26cf90e06",
   "metadata": {},
   "outputs": [],
   "source": [
    "max_vocab_size = 5000    #Maximum vocabulary size to consider\n",
    "max_length = 100       # Maximum length of sequences"
   ]
  },
  {
   "cell_type": "code",
   "execution_count": null,
   "id": "8944c1b9-605f-40d4-b1de-e56954b29503",
   "metadata": {},
   "outputs": [],
   "source": []
  },
  {
   "cell_type": "code",
   "execution_count": 31,
   "id": "05bf8970-4ead-4f9d-9b76-64c20f6054f1",
   "metadata": {},
   "outputs": [],
   "source": [
    "tokenizer = Tokenizer(num_words=max_vocab_size)"
   ]
  },
  {
   "cell_type": "code",
   "execution_count": 32,
   "id": "e043a5ec-4880-4273-ab21-6c09fe42df47",
   "metadata": {},
   "outputs": [
    {
     "data": {
      "text/plain": [
       "<keras.src.legacy.preprocessing.text.Tokenizer at 0x1a3dff0cac0>"
      ]
     },
     "execution_count": 32,
     "metadata": {},
     "output_type": "execute_result"
    }
   ],
   "source": [
    "tokenizer"
   ]
  },
  {
   "cell_type": "code",
   "execution_count": 33,
   "id": "788a1749-711d-4336-9eb5-b24da257fa8a",
   "metadata": {},
   "outputs": [],
   "source": [
    "tokenizer.fit_on_texts(df['Preprocess_Resume'])\n"
   ]
  },
  {
   "cell_type": "code",
   "execution_count": 34,
   "id": "93cb2b2d-ce9d-4a11-8c37-7b6d34dec7d7",
   "metadata": {},
   "outputs": [],
   "source": [
    "word_index = tokenizer.word_index"
   ]
  },
  {
   "cell_type": "code",
   "execution_count": 35,
   "id": "604a2a2f-849a-46c1-a0dd-a404db77e29e",
   "metadata": {},
   "outputs": [],
   "source": [
    "max_vocab_size = len(word_index)"
   ]
  },
  {
   "cell_type": "code",
   "execution_count": 36,
   "id": "5f84be4e-d2b9-40e0-9af9-f0a23569127a",
   "metadata": {},
   "outputs": [
    {
     "data": {
      "text/plain": [
       "6436"
      ]
     },
     "execution_count": 36,
     "metadata": {},
     "output_type": "execute_result"
    }
   ],
   "source": [
    "max_vocab_size"
   ]
  },
  {
   "cell_type": "code",
   "execution_count": 37,
   "id": "2ee1bf61-0ce1-486b-b496-0a630efb8be9",
   "metadata": {},
   "outputs": [],
   "source": [
    "# Convert text data to sequences of integers"
   ]
  },
  {
   "cell_type": "code",
   "execution_count": 38,
   "id": "97886e91-6853-46d7-8721-f35cd27314c2",
   "metadata": {},
   "outputs": [],
   "source": [
    "sequences = tokenizer.texts_to_sequences(df['Preprocess_Resume'])"
   ]
  },
  {
   "cell_type": "code",
   "execution_count": 39,
   "id": "be73954d-5eda-486c-a192-a48710f096bc",
   "metadata": {},
   "outputs": [],
   "source": [
    "# sequences"
   ]
  },
  {
   "cell_type": "code",
   "execution_count": 40,
   "id": "430578a4-c57b-4488-9d99-e8f4fb0d2e3c",
   "metadata": {},
   "outputs": [
    {
     "data": {
      "text/plain": [
       "0      skill programming language python panda numpy ...\n",
       "1      education detail may 2013 may 2017 data scient...\n",
       "2      area interest deep learning control system des...\n",
       "3      skill r python sap hana tableau sap hana sql s...\n",
       "4      education detail mca ymcaust faridabad haryana...\n",
       "                             ...                        \n",
       "957    computer skill proficient m office word basic ...\n",
       "958    willingness accept challenge positive thinking...\n",
       "959    personal skill quick learner eagerness learn n...\n",
       "960    computer skill software knowledge point m offi...\n",
       "961    skill set o window database mysql sql server 2...\n",
       "Name: Preprocess_Resume, Length: 962, dtype: object"
      ]
     },
     "execution_count": 40,
     "metadata": {},
     "output_type": "execute_result"
    }
   ],
   "source": [
    "df['Preprocess_Resume']"
   ]
  },
  {
   "cell_type": "code",
   "execution_count": 41,
   "id": "e28443e8-aa43-48c3-95df-7a792dd3deaa",
   "metadata": {
    "scrolled": true
   },
   "outputs": [
    {
     "data": {
      "text/plain": [
       "[9,\n",
       " 207,\n",
       " 119,\n",
       " 78,\n",
       " 1642,\n",
       " 1156,\n",
       " 2013,\n",
       " 40,\n",
       " 39,\n",
       " 153,\n",
       " 195,\n",
       " 405,\n",
       " 1792,\n",
       " 2678,\n",
       " 2437,\n",
       " 2438,\n",
       " 3085,\n",
       " 500,\n",
       " 1482,\n",
       " 640,\n",
       " 348,\n",
       " 100,\n",
       " 571,\n",
       " 3732,\n",
       " 1194,\n",
       " 100,\n",
       " 2679,\n",
       " 119,\n",
       " 371,\n",
       " 3733,\n",
       " 2014,\n",
       " 1361,\n",
       " 1100,\n",
       " 3734,\n",
       " 3735,\n",
       " 1076,\n",
       " 397,\n",
       " 15,\n",
       " 1310,\n",
       " 86,\n",
       " 1793,\n",
       " 2439,\n",
       " 771,\n",
       " 2820,\n",
       " 2013,\n",
       " 907,\n",
       " 1621,\n",
       " 618,\n",
       " 2015,\n",
       " 142,\n",
       " 231,\n",
       " 495,\n",
       " 20,\n",
       " 78,\n",
       " 2821,\n",
       " 413,\n",
       " 2822,\n",
       " 79,\n",
       " 1311,\n",
       " 994,\n",
       " 1219,\n",
       " 186,\n",
       " 699,\n",
       " 5,\n",
       " 8,\n",
       " 96,\n",
       " 1643,\n",
       " 1234,\n",
       " 8,\n",
       " 96,\n",
       " 1643,\n",
       " 1234,\n",
       " 3630,\n",
       " 2617,\n",
       " 1419,\n",
       " 9,\n",
       " 5,\n",
       " 2,\n",
       " 184,\n",
       " 4,\n",
       " 2,\n",
       " 184,\n",
       " 4,\n",
       " 2,\n",
       " 184,\n",
       " 50,\n",
       " 5,\n",
       " 3,\n",
       " 3630,\n",
       " 2617,\n",
       " 1419,\n",
       " 6,\n",
       " 1420,\n",
       " 2823,\n",
       " 3736,\n",
       " 19,\n",
       " 1643,\n",
       " 18,\n",
       " 2680,\n",
       " 113,\n",
       " 3737,\n",
       " 18,\n",
       " 2680,\n",
       " 113,\n",
       " 536,\n",
       " 113,\n",
       " 29,\n",
       " 908,\n",
       " 277,\n",
       " 360,\n",
       " 25,\n",
       " 202,\n",
       " 135,\n",
       " 7,\n",
       " 3631,\n",
       " 109,\n",
       " 430,\n",
       " 113,\n",
       " 130,\n",
       " 59,\n",
       " 2681,\n",
       " 943,\n",
       " 1343,\n",
       " 876,\n",
       " 59,\n",
       " 612,\n",
       " 1344,\n",
       " 1157,\n",
       " 1361,\n",
       " 1100,\n",
       " 1622,\n",
       " 113,\n",
       " 3086,\n",
       " 1922,\n",
       " 235,\n",
       " 66,\n",
       " 4353,\n",
       " 4354,\n",
       " 113,\n",
       " 272,\n",
       " 169,\n",
       " 169,\n",
       " 315,\n",
       " 64,\n",
       " 353,\n",
       " 26,\n",
       " 1235,\n",
       " 259,\n",
       " 1344,\n",
       " 100,\n",
       " 1923,\n",
       " 83,\n",
       " 576,\n",
       " 477,\n",
       " 8,\n",
       " 72,\n",
       " 250,\n",
       " 2201,\n",
       " 97,\n",
       " 352,\n",
       " 59,\n",
       " 3737,\n",
       " 536,\n",
       " 1344,\n",
       " 1157,\n",
       " 1361,\n",
       " 1100,\n",
       " 3738,\n",
       " 486,\n",
       " 164,\n",
       " 107,\n",
       " 1644,\n",
       " 259,\n",
       " 114,\n",
       " 255,\n",
       " 2682,\n",
       " 3739,\n",
       " 57,\n",
       " 59,\n",
       " 18,\n",
       " 78,\n",
       " 3740,\n",
       " 2824,\n",
       " 2678,\n",
       " 3734,\n",
       " 3735,\n",
       " 1361,\n",
       " 1100,\n",
       " 477,\n",
       " 1194,\n",
       " 100,\n",
       " 907,\n",
       " 379,\n",
       " 134,\n",
       " 192,\n",
       " 8,\n",
       " 96,\n",
       " 2440,\n",
       " 1,\n",
       " 588,\n",
       " 16,\n",
       " 477,\n",
       " 277,\n",
       " 517,\n",
       " 1794,\n",
       " 28,\n",
       " 113,\n",
       " 8,\n",
       " 1004,\n",
       " 28,\n",
       " 645,\n",
       " 1421,\n",
       " 8,\n",
       " 861,\n",
       " 273,\n",
       " 13,\n",
       " 228,\n",
       " 1194,\n",
       " 613,\n",
       " 2825,\n",
       " 3741,\n",
       " 66,\n",
       " 1058,\n",
       " 100,\n",
       " 28,\n",
       " 501,\n",
       " 263,\n",
       " 444,\n",
       " 593,\n",
       " 187,\n",
       " 1795,\n",
       " 601,\n",
       " 719,\n",
       " 1421,\n",
       " 593,\n",
       " 75,\n",
       " 2202,\n",
       " 571,\n",
       " 1796,\n",
       " 613,\n",
       " 2825,\n",
       " 571,\n",
       " 263,\n",
       " 1421,\n",
       " 593,\n",
       " 571,\n",
       " 251,\n",
       " 187,\n",
       " 814,\n",
       " 907,\n",
       " 379,\n",
       " 336,\n",
       " 134,\n",
       " 1310,\n",
       " 3742,\n",
       " 107,\n",
       " 43,\n",
       " 2203,\n",
       " 3742,\n",
       " 273,\n",
       " 67,\n",
       " 815,\n",
       " 1115,\n",
       " 1295,\n",
       " 1116,\n",
       " 45,\n",
       " 1117,\n",
       " 2016,\n",
       " 1623,\n",
       " 352,\n",
       " 67,\n",
       " 112,\n",
       " 1295,\n",
       " 1483,\n",
       " 3087,\n",
       " 59,\n",
       " 629,\n",
       " 416,\n",
       " 130,\n",
       " 139,\n",
       " 828,\n",
       " 1118,\n",
       " 891,\n",
       " 43,\n",
       " 1295,\n",
       " 120,\n",
       " 720,\n",
       " 721,\n",
       " 2441,\n",
       " 956,\n",
       " 120,\n",
       " 2442,\n",
       " 1295,\n",
       " 73,\n",
       " 43,\n",
       " 24,\n",
       " 721,\n",
       " 1295,\n",
       " 59,\n",
       " 18,\n",
       " 78,\n",
       " 2679,\n",
       " 119,\n",
       " 371,\n",
       " 3743,\n",
       " 1361,\n",
       " 1100,\n",
       " 1194,\n",
       " 100,\n",
       " 571,\n",
       " 3732,\n",
       " 1793,\n",
       " 83,\n",
       " 957,\n",
       " 342,\n",
       " 256,\n",
       " 1797,\n",
       " 500,\n",
       " 83,\n",
       " 466,\n",
       " 722,\n",
       " 83,\n",
       " 957,\n",
       " 2017,\n",
       " 956,\n",
       " 263,\n",
       " 2826,\n",
       " 8,\n",
       " 213,\n",
       " 473,\n",
       " 98,\n",
       " 342,\n",
       " 425,\n",
       " 83,\n",
       " 167,\n",
       " 2777,\n",
       " 8,\n",
       " 192,\n",
       " 213,\n",
       " 700,\n",
       " 90,\n",
       " 176,\n",
       " 700,\n",
       " 565,\n",
       " 8,\n",
       " 83,\n",
       " 2018,\n",
       " 304,\n",
       " 3088,\n",
       " 1624,\n",
       " 1422,\n",
       " 187,\n",
       " 814,\n",
       " 2443,\n",
       " 379,\n",
       " 33,\n",
       " 2820,\n",
       " 3744,\n",
       " 100,\n",
       " 8,\n",
       " 828,\n",
       " 83,\n",
       " 8,\n",
       " 266,\n",
       " 255,\n",
       " 854,\n",
       " 1924,\n",
       " 1040,\n",
       " 3744,\n",
       " 1422,\n",
       " 100,\n",
       " 1624,\n",
       " 1422,\n",
       " 4325,\n",
       " 1005,\n",
       " 3089,\n",
       " 1925,\n",
       " 83,\n",
       " 1119,\n",
       " 125,\n",
       " 732,\n",
       " 995,\n",
       " 149,\n",
       " 92,\n",
       " 2683,\n",
       " 59,\n",
       " 18,\n",
       " 78,\n",
       " 2821,\n",
       " 1624,\n",
       " 1422,\n",
       " 2820,\n",
       " 1420,\n",
       " 2440,\n",
       " 130,\n",
       " 1420,\n",
       " 277,\n",
       " 3745,\n",
       " 130,\n",
       " 113,\n",
       " 2682,\n",
       " 3739,\n",
       " 110,\n",
       " 1420,\n",
       " 277,\n",
       " 3745,\n",
       " 130,\n",
       " 3090,\n",
       " 110,\n",
       " 60,\n",
       " 2827,\n",
       " 277,\n",
       " 55,\n",
       " 426,\n",
       " 11,\n",
       " 77,\n",
       " 16,\n",
       " 1101,\n",
       " 11,\n",
       " 447,\n",
       " 4995,\n",
       " 1420,\n",
       " 603,\n",
       " 1059,\n",
       " 277,\n",
       " 59,\n",
       " 18,\n",
       " 142,\n",
       " 173,\n",
       " 1793,\n",
       " 156,\n",
       " 231,\n",
       " 288]"
      ]
     },
     "execution_count": 41,
     "metadata": {},
     "output_type": "execute_result"
    }
   ],
   "source": [
    "sequences[0]"
   ]
  },
  {
   "cell_type": "code",
   "execution_count": 42,
   "id": "cfe6d83a-9666-4d12-80af-292a4bcc0ca6",
   "metadata": {},
   "outputs": [
    {
     "data": {
      "text/plain": [
       "433"
      ]
     },
     "execution_count": 42,
     "metadata": {},
     "output_type": "execute_result"
    }
   ],
   "source": [
    "len(sequences[0])"
   ]
  },
  {
   "cell_type": "code",
   "execution_count": 43,
   "id": "94f9ef46-008f-4d86-a089-da2cc2c4111d",
   "metadata": {},
   "outputs": [
    {
     "data": {
      "text/plain": [
       "99"
      ]
     },
     "execution_count": 43,
     "metadata": {},
     "output_type": "execute_result"
    }
   ],
   "source": [
    "len(sequences[1])"
   ]
  },
  {
   "cell_type": "code",
   "execution_count": 44,
   "id": "d570d282-e904-47d5-b7f0-d6a376848fdc",
   "metadata": {},
   "outputs": [
    {
     "data": {
      "text/plain": [
       "1436"
      ]
     },
     "execution_count": 44,
     "metadata": {},
     "output_type": "execute_result"
    }
   ],
   "source": [
    "max(len(seq) for seq in sequences)\n"
   ]
  },
  {
   "cell_type": "code",
   "execution_count": 45,
   "id": "b75abccc-58b8-47af-99fa-509b43e4ab77",
   "metadata": {},
   "outputs": [],
   "source": [
    "from tensorflow.keras.preprocessing.sequence import pad_sequences"
   ]
  },
  {
   "cell_type": "code",
   "execution_count": 46,
   "id": "24edd909-35f6-439d-805a-a98ab75294ca",
   "metadata": {},
   "outputs": [],
   "source": [
    "# Pad sequences to ensure uniform length"
   ]
  },
  {
   "cell_type": "code",
   "execution_count": 47,
   "id": "47efcd31-d5bd-4b25-8ce4-ef3d88b0f922",
   "metadata": {},
   "outputs": [],
   "source": [
    "x = pad_sequences(sequences,maxlen=max_length)"
   ]
  },
  {
   "cell_type": "code",
   "execution_count": 48,
   "id": "b57f5479-8372-4e29-bcc2-18a788cf9a4d",
   "metadata": {},
   "outputs": [
    {
     "data": {
      "text/plain": [
       "array([[  83,  167, 2777, ...,  156,  231,  288],\n",
       "       [   0,   61,    5, ...,    3, 2828,    6],\n",
       "       [ 229,   18,   34, ..., 1754,  944,   21],\n",
       "       ...,\n",
       "       [ 362, 1181,   16, ...,  614,  103,  261],\n",
       "       [   0,    0,    0, ..., 3620,  287,    6],\n",
       "       [  60,  385,  105, ...,  302,   20,    4]])"
      ]
     },
     "execution_count": 48,
     "metadata": {},
     "output_type": "execute_result"
    }
   ],
   "source": [
    "x"
   ]
  },
  {
   "cell_type": "code",
   "execution_count": 49,
   "id": "3041e318-ba06-44a1-8b9b-e845c16ecdff",
   "metadata": {},
   "outputs": [],
   "source": [
    "# Convert category labels into one-hot encoded format"
   ]
  },
  {
   "cell_type": "code",
   "execution_count": 50,
   "id": "3932773c-8a88-44e9-b193-07e38c9134fe",
   "metadata": {},
   "outputs": [],
   "source": [
    "from tensorflow.keras.utils import to_categorical\n",
    "\n",
    "num_classes = df['Category'].nunique()\n",
    "\n",
    "\n"
   ]
  },
  {
   "cell_type": "code",
   "execution_count": 51,
   "id": "313686b8-c3e8-4c8a-9de3-ebe496302098",
   "metadata": {},
   "outputs": [],
   "source": [
    "y = to_categorical(df['Category'], num_classes=num_classes)\n"
   ]
  },
  {
   "cell_type": "code",
   "execution_count": 52,
   "id": "4a596fe1-493c-4334-a4cb-9aabf04ead7e",
   "metadata": {},
   "outputs": [],
   "source": [
    "from sklearn.model_selection import train_test_split\n"
   ]
  },
  {
   "cell_type": "code",
   "execution_count": 53,
   "id": "53bb18bf-a6b6-440c-8587-18dee2aec9cb",
   "metadata": {},
   "outputs": [],
   "source": [
    "# Split data into training and testing sets"
   ]
  },
  {
   "cell_type": "code",
   "execution_count": 54,
   "id": "e21d22f8-622d-46d7-95e4-4a9a195f3623",
   "metadata": {},
   "outputs": [],
   "source": [
    "x_train, x_test, y_train, y_test = train_test_split(x, y, test_size=0.2, random_state=42)\n"
   ]
  },
  {
   "cell_type": "code",
   "execution_count": 55,
   "id": "cc6e18c1-d7eb-4728-8c46-e0618839037a",
   "metadata": {},
   "outputs": [],
   "source": [
    "\n",
    "\n",
    "from tensorflow.keras.models import Sequential\n",
    "from tensorflow.keras.layers import Dense, LSTM, Embedding,Dropout\n"
   ]
  },
  {
   "cell_type": "code",
   "execution_count": 56,
   "id": "4b32a799-f5c3-478a-8c45-6e9e1577e7ab",
   "metadata": {},
   "outputs": [],
   "source": [
    "# Define a sequential model with embedding and LSTM layers "
   ]
  },
  {
   "cell_type": "code",
   "execution_count": 57,
   "id": "4b023a12-57c1-438f-8c3e-8a67053068e0",
   "metadata": {},
   "outputs": [
    {
     "name": "stderr",
     "output_type": "stream",
     "text": [
      "D:\\laragon\\bin\\python\\python-3.10\\lib\\site-packages\\keras\\src\\layers\\core\\embedding.py:90: UserWarning: Argument `input_length` is deprecated. Just remove it.\n",
      "  warnings.warn(\n"
     ]
    }
   ],
   "source": [
    "model = Sequential()\n",
    "model.add(Embedding(input_dim=max_vocab_size, output_dim=64, input_length=max_length))  # Embedding layer for word vectors\n",
    "model.add(LSTM(128))  # LSTM layer to capture sequence information\n",
    "model.add(Dense(128, activation='relu'))  # Dense layer with ReLU activation\n",
    "model.add(Dropout(0.3))  # Dropout layer for regularization\n",
    "model.add(Dense(num_classes, activation='softmax'))  # Output layer with softmax for multi-class classification\n"
   ]
  },
  {
   "cell_type": "code",
   "execution_count": 58,
   "id": "54319132-43fe-44a1-86d0-64f49ab1b8ff",
   "metadata": {},
   "outputs": [],
   "source": [
    "# Compile the model with categorical cross-entropy loss and Adam optimizer"
   ]
  },
  {
   "cell_type": "code",
   "execution_count": 59,
   "id": "9ae357e6-afd2-4356-9a0c-30e92ae0e21b",
   "metadata": {},
   "outputs": [],
   "source": [
    "model.compile(optimizer='adam', loss='categorical_crossentropy', metrics=['accuracy'])"
   ]
  },
  {
   "cell_type": "code",
   "execution_count": 60,
   "id": "0c13ca5d-3940-47dc-906d-0ae5d9f18f2b",
   "metadata": {},
   "outputs": [],
   "source": [
    "from tensorflow.keras.callbacks import EarlyStopping\n",
    "\n"
   ]
  },
  {
   "cell_type": "code",
   "execution_count": 61,
   "id": "c9827225-278b-4124-9f2d-8b883c854ca4",
   "metadata": {},
   "outputs": [],
   "source": [
    "# Early stopping callback to prevent overfitting"
   ]
  },
  {
   "cell_type": "code",
   "execution_count": 62,
   "id": "f74c64c3-0e64-4fc9-a271-5769285fcfd7",
   "metadata": {},
   "outputs": [],
   "source": [
    "early_stopping = EarlyStopping(monitor='val_loss',patience=2,  restore_best_weights=True,)"
   ]
  },
  {
   "cell_type": "code",
   "execution_count": 63,
   "id": "77c9fb60-5852-4e21-b7e0-ef6382008950",
   "metadata": {},
   "outputs": [],
   "source": [
    "\n",
    "# Train the model"
   ]
  },
  {
   "cell_type": "code",
   "execution_count": 64,
   "id": "5a46da68-e9da-496b-9d98-bce2855dc79b",
   "metadata": {},
   "outputs": [
    {
     "name": "stdout",
     "output_type": "stream",
     "text": [
      "Epoch 1/16\n",
      "\u001b[1m20/20\u001b[0m \u001b[32m━━━━━━━━━━━━━━━━━━━━\u001b[0m\u001b[37m\u001b[0m \u001b[1m14s\u001b[0m 199ms/step - accuracy: 0.1101 - loss: 3.2100 - val_accuracy: 0.1299 - val_loss: 3.1657\n",
      "Epoch 2/16\n",
      "\u001b[1m20/20\u001b[0m \u001b[32m━━━━━━━━━━━━━━━━━━━━\u001b[0m\u001b[37m\u001b[0m \u001b[1m5s\u001b[0m 190ms/step - accuracy: 0.1345 - loss: 3.0812 - val_accuracy: 0.0974 - val_loss: 3.0194\n",
      "Epoch 3/16\n",
      "\u001b[1m20/20\u001b[0m \u001b[32m━━━━━━━━━━━━━━━━━━━━\u001b[0m\u001b[37m\u001b[0m \u001b[1m4s\u001b[0m 112ms/step - accuracy: 0.2224 - loss: 2.6883 - val_accuracy: 0.2143 - val_loss: 2.5224\n",
      "Epoch 4/16\n",
      "\u001b[1m20/20\u001b[0m \u001b[32m━━━━━━━━━━━━━━━━━━━━\u001b[0m\u001b[37m\u001b[0m \u001b[1m3s\u001b[0m 150ms/step - accuracy: 0.3659 - loss: 2.2087 - val_accuracy: 0.3701 - val_loss: 2.0606\n",
      "Epoch 5/16\n",
      "\u001b[1m20/20\u001b[0m \u001b[32m━━━━━━━━━━━━━━━━━━━━\u001b[0m\u001b[37m\u001b[0m \u001b[1m3s\u001b[0m 139ms/step - accuracy: 0.5472 - loss: 1.6521 - val_accuracy: 0.5779 - val_loss: 1.6123\n",
      "Epoch 6/16\n",
      "\u001b[1m20/20\u001b[0m \u001b[32m━━━━━━━━━━━━━━━━━━━━\u001b[0m\u001b[37m\u001b[0m \u001b[1m6s\u001b[0m 139ms/step - accuracy: 0.6738 - loss: 1.2389 - val_accuracy: 0.6883 - val_loss: 1.1537\n",
      "Epoch 7/16\n",
      "\u001b[1m20/20\u001b[0m \u001b[32m━━━━━━━━━━━━━━━━━━━━\u001b[0m\u001b[37m\u001b[0m \u001b[1m7s\u001b[0m 193ms/step - accuracy: 0.7799 - loss: 0.8306 - val_accuracy: 0.7857 - val_loss: 0.8437\n",
      "Epoch 8/16\n",
      "\u001b[1m20/20\u001b[0m \u001b[32m━━━━━━━━━━━━━━━━━━━━\u001b[0m\u001b[37m\u001b[0m \u001b[1m3s\u001b[0m 115ms/step - accuracy: 0.8492 - loss: 0.5535 - val_accuracy: 0.8247 - val_loss: 0.5873\n",
      "Epoch 9/16\n",
      "\u001b[1m20/20\u001b[0m \u001b[32m━━━━━━━━━━━━━━━━━━━━\u001b[0m\u001b[37m\u001b[0m \u001b[1m3s\u001b[0m 138ms/step - accuracy: 0.9034 - loss: 0.3617 - val_accuracy: 0.9091 - val_loss: 0.4051\n",
      "Epoch 10/16\n",
      "\u001b[1m20/20\u001b[0m \u001b[32m━━━━━━━━━━━━━━━━━━━━\u001b[0m\u001b[37m\u001b[0m \u001b[1m3s\u001b[0m 127ms/step - accuracy: 0.9590 - loss: 0.2207 - val_accuracy: 0.9156 - val_loss: 0.2777\n",
      "Epoch 11/16\n",
      "\u001b[1m20/20\u001b[0m \u001b[32m━━━━━━━━━━━━━━━━━━━━\u001b[0m\u001b[37m\u001b[0m \u001b[1m2s\u001b[0m 112ms/step - accuracy: 0.9599 - loss: 0.1716 - val_accuracy: 0.9286 - val_loss: 0.2175\n",
      "Epoch 12/16\n",
      "\u001b[1m20/20\u001b[0m \u001b[32m━━━━━━━━━━━━━━━━━━━━\u001b[0m\u001b[37m\u001b[0m \u001b[1m3s\u001b[0m 127ms/step - accuracy: 0.9729 - loss: 0.1427 - val_accuracy: 0.9416 - val_loss: 0.1697\n",
      "Epoch 13/16\n",
      "\u001b[1m20/20\u001b[0m \u001b[32m━━━━━━━━━━━━━━━━━━━━\u001b[0m\u001b[37m\u001b[0m \u001b[1m4s\u001b[0m 186ms/step - accuracy: 0.9774 - loss: 0.1108 - val_accuracy: 0.9286 - val_loss: 0.1611\n",
      "Epoch 14/16\n",
      "\u001b[1m20/20\u001b[0m \u001b[32m━━━━━━━━━━━━━━━━━━━━\u001b[0m\u001b[37m\u001b[0m \u001b[1m4s\u001b[0m 172ms/step - accuracy: 0.9887 - loss: 0.0756 - val_accuracy: 0.9740 - val_loss: 0.0791\n",
      "Epoch 15/16\n",
      "\u001b[1m20/20\u001b[0m \u001b[32m━━━━━━━━━━━━━━━━━━━━\u001b[0m\u001b[37m\u001b[0m \u001b[1m5s\u001b[0m 165ms/step - accuracy: 0.9952 - loss: 0.0362 - val_accuracy: 0.9805 - val_loss: 0.1224\n",
      "Epoch 16/16\n",
      "\u001b[1m20/20\u001b[0m \u001b[32m━━━━━━━━━━━━━━━━━━━━\u001b[0m\u001b[37m\u001b[0m \u001b[1m4s\u001b[0m 166ms/step - accuracy: 0.9973 - loss: 0.0243 - val_accuracy: 0.9740 - val_loss: 0.1017\n"
     ]
    }
   ],
   "source": [
    "history = model.fit(x_train, y_train, epochs=16, batch_size=32, validation_split=0.2, callbacks=[early_stopping])\n"
   ]
  },
  {
   "cell_type": "code",
   "execution_count": 65,
   "id": "827eb5ce-7f04-4d48-a8de-ae0e3e9c9d6f",
   "metadata": {},
   "outputs": [],
   "source": [
    "# Evaluate the model on the test set"
   ]
  },
  {
   "cell_type": "code",
   "execution_count": 66,
   "id": "c6d11228-d06a-4034-9565-b5ed84606600",
   "metadata": {},
   "outputs": [
    {
     "name": "stdout",
     "output_type": "stream",
     "text": [
      "\u001b[1m7/7\u001b[0m \u001b[32m━━━━━━━━━━━━━━━━━━━━\u001b[0m\u001b[37m\u001b[0m \u001b[1m0s\u001b[0m 37ms/step - accuracy: 0.9663 - loss: 0.1144\n",
      "accuracy: 0.9637305736541748\n"
     ]
    }
   ],
   "source": [
    "test_loss, test_acc = model.evaluate(x_test, y_test)\n",
    "print(f'accuracy: {test_acc}')\n"
   ]
  },
  {
   "cell_type": "code",
   "execution_count": 67,
   "id": "37e012b6-c847-445d-91bd-89f9a1ff8a59",
   "metadata": {},
   "outputs": [
    {
     "name": "stdout",
     "output_type": "stream",
     "text": [
      "\u001b[1m25/25\u001b[0m \u001b[32m━━━━━━━━━━━━━━━━━━━━\u001b[0m\u001b[37m\u001b[0m \u001b[1m1s\u001b[0m 50ms/step - accuracy: 0.9990 - loss: 0.0182\n"
     ]
    }
   ],
   "source": [
    "train_loss, train_acc = model.evaluate(x_train, y_train)\n"
   ]
  },
  {
   "cell_type": "code",
   "execution_count": 68,
   "id": "f89587fa-d426-4ffa-8472-8de2382b3089",
   "metadata": {},
   "outputs": [
    {
     "name": "stdout",
     "output_type": "stream",
     "text": [
      "\u001b[1m7/7\u001b[0m \u001b[32m━━━━━━━━━━━━━━━━━━━━\u001b[0m\u001b[37m\u001b[0m \u001b[1m1s\u001b[0m 110ms/step\n"
     ]
    }
   ],
   "source": [
    "y_pred = model.predict(x_test)"
   ]
  },
  {
   "cell_type": "code",
   "execution_count": 69,
   "id": "bba9fcc0-a593-46cf-8cbb-3144be3dc30d",
   "metadata": {},
   "outputs": [],
   "source": [
    "\n",
    "# Save the trained model"
   ]
  },
  {
   "cell_type": "code",
   "execution_count": 70,
   "id": "749c646b-6f73-4d3c-a972-f411b447eb78",
   "metadata": {},
   "outputs": [
    {
     "name": "stderr",
     "output_type": "stream",
     "text": [
      "WARNING:absl:You are saving your model as an HDF5 file via `model.save()` or `keras.saving.save_model(model)`. This file format is considered legacy. We recommend using instead the native Keras format, e.g. `model.save('my_model.keras')` or `keras.saving.save_model(model, 'my_model.keras')`. \n"
     ]
    }
   ],
   "source": [
    "model.save(\"resume_model4.h5\")\n"
   ]
  },
  {
   "cell_type": "code",
   "execution_count": 71,
   "id": "e4a1b49a-651a-477e-a25b-4bef0a334e66",
   "metadata": {},
   "outputs": [],
   "source": [
    "# y_pred = (y_pred>=0.5)"
   ]
  },
  {
   "cell_type": "code",
   "execution_count": 72,
   "id": "194e538b-eed9-420b-929f-b0f6a8f031f7",
   "metadata": {},
   "outputs": [],
   "source": [
    "from sklearn.metrics import  accuracy_score"
   ]
  },
  {
   "cell_type": "code",
   "execution_count": 73,
   "id": "3684414a-24dc-45a5-a947-495bd4fb1867",
   "metadata": {},
   "outputs": [],
   "source": [
    "y_pred = (y_pred>0.5)"
   ]
  },
  {
   "cell_type": "code",
   "execution_count": 74,
   "id": "18702177-dab5-4f07-b36d-5614beb2159a",
   "metadata": {},
   "outputs": [
    {
     "data": {
      "text/plain": [
       "0.9637305699481865"
      ]
     },
     "execution_count": 74,
     "metadata": {},
     "output_type": "execute_result"
    }
   ],
   "source": [
    "accuracy_score(y_pred,y_test)"
   ]
  },
  {
   "cell_type": "code",
   "execution_count": 75,
   "id": "4bb27123-cb67-4381-9716-66734ab24a3b",
   "metadata": {},
   "outputs": [],
   "source": [
    "import pandas as pd \n",
    "import numpy as np \n",
    "from sklearn import tree \n",
    "from sklearn import datasets \n",
    "from sklearn.datasets import load_iris \n",
    "from sklearn.tree import DecisionTreeClassifier \n",
    "from sklearn.model_selection import train_test_split \n",
    "import seaborn as sns \n",
    "import matplotlib.pyplot as plt \n",
    "from sklearn.metrics import precision_score ,recall_score, f1_score, accuracy_score ,confusion_matrix"
   ]
  },
  {
   "cell_type": "code",
   "execution_count": 76,
   "id": "fb8ad664-df90-4677-9cef-376d26439db7",
   "metadata": {},
   "outputs": [
    {
     "name": "stdout",
     "output_type": "stream",
     "text": [
      "Accuracy: 0.9637305699481865\n"
     ]
    }
   ],
   "source": [
    "print(\"Accuracy:\", accuracy_score(y_test,   y_pred)) "
   ]
  },
  {
   "cell_type": "code",
   "execution_count": 77,
   "id": "2526fd66-5062-4164-ba17-c28a9d99a600",
   "metadata": {},
   "outputs": [
    {
     "name": "stdout",
     "output_type": "stream",
     "text": [
      "Precision: 0.9712558598568962\n"
     ]
    },
    {
     "name": "stderr",
     "output_type": "stream",
     "text": [
      "D:\\laragon\\bin\\python\\python-3.10\\lib\\site-packages\\sklearn\\metrics\\_classification.py:1531: UndefinedMetricWarning: Precision is ill-defined and being set to 0.0 in labels with no predicted samples. Use `zero_division` parameter to control this behavior.\n",
      "  _warn_prf(average, modifier, f\"{metric.capitalize()} is\", len(result))\n"
     ]
    }
   ],
   "source": [
    "print(\"Precision:\", precision_score(y_test,   y_pred,  average=\"weighted\")) \n"
   ]
  },
  {
   "cell_type": "code",
   "execution_count": 78,
   "id": "e9a3d79e-8a91-471d-8f79-ed6ec209d33a",
   "metadata": {},
   "outputs": [
    {
     "name": "stdout",
     "output_type": "stream",
     "text": [
      "Recall: 0.9637305699481865\n"
     ]
    }
   ],
   "source": [
    "print('Recall:', recall_score(y_test,     y_pred,  average=\"weighted\")) "
   ]
  },
  {
   "cell_type": "code",
   "execution_count": 79,
   "id": "ab840218-997a-4592-be9b-c7aa5650a398",
   "metadata": {},
   "outputs": [
    {
     "name": "stdout",
     "output_type": "stream",
     "text": [
      "F1 score: 0.9653049694500472\n"
     ]
    }
   ],
   "source": [
    "print('F1 score:', f1_score(y_test, y_pred,  average=\"weighted\")) "
   ]
  },
  {
   "cell_type": "code",
   "execution_count": null,
   "id": "27cec8b3-ac6c-456d-a87e-f7ee3fee0349",
   "metadata": {},
   "outputs": [],
   "source": []
  },
  {
   "cell_type": "code",
   "execution_count": 80,
   "id": "29c73854-2e92-4214-8656-7a2a4fc72c1e",
   "metadata": {},
   "outputs": [],
   "source": [
    "from sklearn.metrics import roc_auc_score\n"
   ]
  },
  {
   "cell_type": "code",
   "execution_count": 81,
   "id": "3cd7539b-0c42-4602-ab93-e7442a27f4b5",
   "metadata": {},
   "outputs": [
    {
     "name": "stdout",
     "output_type": "stream",
     "text": [
      "Auc 0.972\n"
     ]
    }
   ],
   "source": [
    "auc = np.round(roc_auc_score(y_test, y_pred), 3) \n",
    "print(\"Auc\", (auc)) "
   ]
  },
  {
   "cell_type": "code",
   "execution_count": 82,
   "id": "a687d1d7-13eb-4535-aee1-01733acadd3e",
   "metadata": {},
   "outputs": [
    {
     "name": "stderr",
     "output_type": "stream",
     "text": [
      "WARNING:absl:You are saving your model as an HDF5 file via `model.save()` or `keras.saving.save_model(model)`. This file format is considered legacy. We recommend using instead the native Keras format, e.g. `model.save('my_model.keras')` or `keras.saving.save_model(model, 'my_model.keras')`. \n"
     ]
    }
   ],
   "source": [
    "model.save(\"resume_model6.h5\")"
   ]
  },
  {
   "cell_type": "code",
   "execution_count": 83,
   "id": "a6acf228-149a-4bc7-84d8-f3c6ac1f34dd",
   "metadata": {},
   "outputs": [],
   "source": [
    "import joblib"
   ]
  },
  {
   "cell_type": "code",
   "execution_count": 84,
   "id": "c340980d-dbd0-465e-af16-861324b8a2df",
   "metadata": {},
   "outputs": [],
   "source": [
    "with open('resume_tokenizer.pkl', 'wb') as tokenizer_file:\n",
    "    joblib.dump(tokenizer, tokenizer_file)"
   ]
  },
  {
   "cell_type": "code",
   "execution_count": null,
   "id": "abd00dae-7f22-4ec5-a4fe-a338f3184d80",
   "metadata": {},
   "outputs": [],
   "source": []
  },
  {
   "cell_type": "code",
   "execution_count": 85,
   "id": "f07fc05e-cc06-4b17-934d-1a8fef1f31f0",
   "metadata": {},
   "outputs": [
    {
     "name": "stdout",
     "output_type": "stream",
     "text": [
      "0.9947984218597412\n"
     ]
    }
   ],
   "source": [
    "print(train_acc)"
   ]
  },
  {
   "cell_type": "code",
   "execution_count": 86,
   "id": "66c9fa6b-56f8-461c-9047-9b59e7481f9d",
   "metadata": {},
   "outputs": [
    {
     "name": "stdout",
     "output_type": "stream",
     "text": [
      "\u001b[1m7/7\u001b[0m \u001b[32m━━━━━━━━━━━━━━━━━━━━\u001b[0m\u001b[37m\u001b[0m \u001b[1m0s\u001b[0m 22ms/step\n"
     ]
    }
   ],
   "source": [
    "predictions = model.predict(x_test)"
   ]
  },
  {
   "cell_type": "code",
   "execution_count": 87,
   "id": "6fd0c579-ad1f-45d7-b27f-f32fcc9e2b43",
   "metadata": {},
   "outputs": [
    {
     "data": {
      "text/plain": [
       "array([[6.0868667e-12, 5.7044229e-08, 2.3490679e-06, ..., 2.3592470e-10,\n",
       "        2.3507117e-07, 6.1562302e-09],\n",
       "       [6.4266897e-13, 1.2904949e-08, 1.0321911e-06, ..., 4.0401377e-11,\n",
       "        9.5000665e-08, 6.5160127e-10],\n",
       "       [1.5588971e-11, 1.6345926e-07, 5.0875037e-06, ..., 6.7522760e-10,\n",
       "        3.8310543e-07, 1.4501360e-08],\n",
       "       ...,\n",
       "       [2.6618120e-05, 3.7599052e-04, 1.9201307e-04, ..., 2.3155236e-04,\n",
       "        7.1135928e-06, 9.8777527e-06],\n",
       "       [7.7555178e-06, 5.0486118e-04, 8.0071017e-03, ..., 2.3116081e-05,\n",
       "        2.2033699e-05, 1.8401724e-06],\n",
       "       [1.1123332e-07, 3.2139360e-06, 2.3515520e-06, ..., 9.5910844e-09,\n",
       "        9.9976820e-01, 7.0100316e-07]], dtype=float32)"
      ]
     },
     "execution_count": 87,
     "metadata": {},
     "output_type": "execute_result"
    }
   ],
   "source": [
    "predictions"
   ]
  },
  {
   "cell_type": "code",
   "execution_count": 88,
   "id": "8d2e9d78-97b3-4edd-aa73-be1aaefdf646",
   "metadata": {},
   "outputs": [],
   "source": [
    "predicted_classes = np.argmax(predictions, axis=1)"
   ]
  },
  {
   "cell_type": "code",
   "execution_count": 89,
   "id": "3a2eb7e6-ec8e-4d2b-b6c7-c57a7b795d75",
   "metadata": {},
   "outputs": [
    {
     "data": {
      "text/plain": [
       "array([15, 15, 15, 13, 14, 17, 16,  2, 12, 14, 13, 12, 16, 23, 20,  5,  6,\n",
       "        4, 10,  9, 19,  1, 10, 23, 23,  6, 22, 22,  2, 12, 18,  1,  8, 24,\n",
       "       11, 23,  7, 12, 24,  8, 18,  6,  8, 19, 24, 23, 21,  1, 15,  4, 15,\n",
       "       22, 11,  5, 15, 13,  1, 19,  5, 12, 22, 22, 20, 24, 21, 18, 12, 10,\n",
       "       10, 20, 10,  8,  9, 21, 17, 21, 22, 17, 16, 14, 15, 11, 11,  8, 20,\n",
       "        3, 19,  8, 12,  2,  9, 10,  2, 23, 20, 20, 23, 12, 18, 12,  7, 16,\n",
       "        8, 14, 18,  3, 14, 19, 14, 14, 15, 18,  8,  2, 21, 18, 23, 10, 23,\n",
       "        0, 11, 15, 12,  3,  0,  3,  7, 12, 19,  8, 20,  6,  3, 15,  9, 19,\n",
       "        1, 23, 21,  5, 20, 15, 16,  7,  7,  8, 15, 18,  1, 15, 13, 20,  7,\n",
       "        4, 18, 11,  0, 15,  5, 12,  9, 22, 18, 21,  8, 23,  4, 12, 24, 16,\n",
       "       15, 22,  8, 22,  3, 16, 23, 23, 12,  7, 16, 18,  5,  3, 18,  8, 23,\n",
       "       23, 20,  6,  6,  7, 23], dtype=int64)"
      ]
     },
     "execution_count": 89,
     "metadata": {},
     "output_type": "execute_result"
    }
   ],
   "source": [
    "predicted_classes"
   ]
  },
  {
   "cell_type": "code",
   "execution_count": 90,
   "id": "26de4e07-5b5b-4d06-8722-3f0a81e6256d",
   "metadata": {},
   "outputs": [],
   "source": [
    "confidence_scores = np.max(predictions, axis=1)"
   ]
  },
  {
   "cell_type": "code",
   "execution_count": 91,
   "id": "ee55f60e-b83d-4281-a0bc-03e225510e40",
   "metadata": {},
   "outputs": [],
   "source": [
    "import matplotlib.pyplot as plt "
   ]
  },
  {
   "cell_type": "code",
   "execution_count": 92,
   "id": "eb5c6533-0f07-4d52-9835-79a25fea9588",
   "metadata": {},
   "outputs": [
    {
     "data": {
      "image/png": "[encoded data removed]",
      "text/plain": [
       "<Figure size 640x480 with 1 Axes>"
      ]
     },
     "metadata": {},
     "output_type": "display_data"
    }
   ],
   "source": [
    "plt.plot(history.history['loss'],label='loss')\n",
    "plt.plot(history.history['val_loss'],label='val_loss')\n",
    "plt.xlabel('Epochs')\n",
    "plt.legend()\n",
    "plt.show()"
   ]
  },
  {
   "cell_type": "code",
   "execution_count": 93,
   "id": "278a139d-94ab-4caa-afaa-54fe8ec0a612",
   "metadata": {},
   "outputs": [
    {
     "data": {
      "image/png": "[encoded data removed]",
      "text/plain": [
       "<Figure size 640x480 with 1 Axes>"
      ]
     },
     "metadata": {},
     "output_type": "display_data"
    }
   ],
   "source": [
    "plt.plot(history.history['accuracy'],label='accuracy')\n",
    "plt.plot(history.history['val_accuracy'],label='val_accuracy')\n",
    "plt.xlabel('Epochs')\n",
    "plt.legend()\n",
    "plt.show()"
   ]
  },
  {
   "cell_type": "code",
   "execution_count": 94,
   "id": "05831767-ba64-4549-b026-45f6e8f644c2",
   "metadata": {},
   "outputs": [],
   "source": [
    "text = \"\"\"Detail-oriented and results-driven Data Scientist with [X years] of experience in analyzing complex datasets, building predictive models, and deriving actionable insights. Proficient in statistical analysis, machine learning, and data visualization. Passionate about leveraging data to solve real-world problems.\n",
    "\n",
    "Technical Skills\n",
    "Programming Languages: Python, R, SQL, Java (or others, if applicable)\n",
    "Data Analysis & Visualization: Pandas, NumPy, Matplotlib, Seaborn, Tableau, Power BI\n",
    "Machine Learning: Scikit-learn, TensorFlow, PyTorch, Keras\n",
    "Big Data Technologies: Hadoop, Spark\n",
    "Databases: MySQL, PostgreSQL, MongoDB\n",
    "Cloud Platforms: AWS, Azure, GCP (if applicable)\n",
    "Tools & Others: Git, Jupyter Notebook, Docker\n",
    "\n",
    ".\"\"\""
   ]
  },
  {
   "cell_type": "code",
   "execution_count": 95,
   "id": "0dbd90cf-d06b-4eab-90c5-1ae6d8cbda11",
   "metadata": {},
   "outputs": [],
   "source": [
    "resume = preprocess_text(text)"
   ]
  },
  {
   "cell_type": "code",
   "execution_count": 96,
   "id": "e16d406c-8c31-4f18-9aa9-ff6bff6b6645",
   "metadata": {},
   "outputs": [],
   "source": [
    "tokenizer.fit_on_texts(resume)\n"
   ]
  },
  {
   "cell_type": "code",
   "execution_count": 97,
   "id": "be379f97-c037-49bf-8b4b-104ef06c3e63",
   "metadata": {},
   "outputs": [],
   "source": [
    "resume_sequence = tokenizer.texts_to_sequences([resume])  \n"
   ]
  },
  {
   "cell_type": "code",
   "execution_count": 98,
   "id": "c9ade042-3e94-4a7b-96d2-48fa5db3678b",
   "metadata": {},
   "outputs": [],
   "source": [
    "\n",
    "x = pad_sequences(sequences,maxlen=max_length)"
   ]
  },
  {
   "cell_type": "code",
   "execution_count": 99,
   "id": "9775b23a-5a40-4cee-bf2f-c1174476f1ba",
   "metadata": {},
   "outputs": [],
   "source": [
    "padded_sequence = pad_sequences(resume_sequence, maxlen=max_length)\n"
   ]
  },
  {
   "cell_type": "code",
   "execution_count": 100,
   "id": "7b856772-ed5d-4d43-a46d-66988b6d94ab",
   "metadata": {},
   "outputs": [
    {
     "name": "stdout",
     "output_type": "stream",
     "text": [
      "\u001b[1m1/1\u001b[0m \u001b[32m━━━━━━━━━━━━━━━━━━━━\u001b[0m\u001b[37m\u001b[0m \u001b[1m0s\u001b[0m 151ms/step\n"
     ]
    }
   ],
   "source": [
    "prd = model.predict(padded_sequence)"
   ]
  },
  {
   "cell_type": "code",
   "execution_count": 101,
   "id": "c7210229-6065-4a3a-a7c3-afa4787976f4",
   "metadata": {},
   "outputs": [
    {
     "data": {
      "text/plain": [
       "array([[5.2021252e-04, 2.1344982e-02, 4.2464212e-02, 1.8711042e-02,\n",
       "        7.5771590e-04, 6.0982624e-04, 6.2984914e-01, 1.6053172e-02,\n",
       "        1.0562240e-03, 3.2353438e-03, 2.2312005e-03, 3.5992907e-05,\n",
       "        8.4931409e-04, 3.6496398e-04, 6.7603844e-04, 2.5877219e-02,\n",
       "        1.6012813e-01, 2.2889301e-04, 5.2968599e-03, 4.5168508e-02,\n",
       "        8.3192991e-04, 2.0005079e-02, 2.1195605e-03, 7.2909484e-04,\n",
       "        8.5535273e-04]], dtype=float32)"
      ]
     },
     "execution_count": 101,
     "metadata": {},
     "output_type": "execute_result"
    }
   ],
   "source": [
    "prd"
   ]
  },
  {
   "cell_type": "code",
   "execution_count": 102,
   "id": "ebfa2f46-6f7a-4ecb-9576-215447b0ea94",
   "metadata": {},
   "outputs": [],
   "source": [
    "predicted_class = np.argmax(prd) \n",
    "confidence_score = np.max(prd)   \n"
   ]
  },
  {
   "cell_type": "code",
   "execution_count": 103,
   "id": "12b8e023-21a1-4daf-8edb-a48a4ea9977b",
   "metadata": {},
   "outputs": [
    {
     "name": "stdout",
     "output_type": "stream",
     "text": [
      "Predicted Category: Data Science\n",
      "Confidence Score: 0.63\n"
     ]
    }
   ],
   "source": [
    "\n",
    "\n",
    "predicted_label = label.inverse_transform([predicted_class])\n",
    "\n",
    "print(f\"Predicted Category: {predicted_label[0]}\")\n",
    "print(f\"Confidence Score: {confidence_score:.2f}\")"
   ]
  },
  {
   "cell_type": "code",
   "execution_count": 104,
   "id": "83fcba01-8c29-492c-b93c-3b8421b99023",
   "metadata": {},
   "outputs": [],
   "source": [
    "import PyPDF2"
   ]
  },
  {
   "cell_type": "code",
   "execution_count": 105,
   "id": "4b652302-6848-4e30-b629-5812daa15742",
   "metadata": {},
   "outputs": [],
   "source": [
    "# Function to extract text from a single PDF file "
   ]
  },
  {
   "cell_type": "code",
   "execution_count": 106,
   "id": "0b69b829-d772-43a0-a33c-c8745257391c",
   "metadata": {},
   "outputs": [],
   "source": [
    "def pdf(path):\n",
    "    with open(path,'rb') as file:        \n",
    "        pdf_reader = PyPDF2.PdfReader(file)\n",
    "        text = \"\"\n",
    "        for page in pdf_reader.pages:\n",
    "                text += page.extract_text()\n",
    "    return text"
   ]
  },
  {
   "cell_type": "code",
   "execution_count": 107,
   "id": "7cb32cac-4ba7-4378-9a77-4ff0cb3b9d9d",
   "metadata": {},
   "outputs": [],
   "source": [
    "# Function to extract text from multiple PDF files"
   ]
  },
  {
   "cell_type": "code",
   "execution_count": 108,
   "id": "ac7edde8-fa89-4597-ab5f-54ae357ffaac",
   "metadata": {},
   "outputs": [],
   "source": [
    "def pdfs(pdf_files):\n",
    "    resume_texts = []\n",
    "    for pdf_file in pdf_files:        \n",
    "        resume_text = pdf(pdf_file)\n",
    "        resume_texts.append(resume_text) \n",
    "    return resume_texts"
   ]
  },
  {
   "cell_type": "code",
   "execution_count": 109,
   "id": "db1a2ce8-4bcf-409a-92fd-3086a15627c4",
   "metadata": {},
   "outputs": [],
   "source": [
    "from sklearn.metrics.pairwise import cosine_similarity"
   ]
  },
  {
   "cell_type": "code",
   "execution_count": 110,
   "id": "5506c95f-607b-4bd3-bbbc-46e96a5a3998",
   "metadata": {},
   "outputs": [],
   "source": [
    "# Function to preprocess and predict categories for multiple resumes"
   ]
  },
  {
   "cell_type": "code",
   "execution_count": 111,
   "id": "8198311b-c4de-4f6e-83cf-8c05d1d262a5",
   "metadata": {},
   "outputs": [],
   "source": [
    "def predict_category_for_resumes(resumes):   \n",
    "    preprocessed_resumes = [preprocess_text(resume) for resume in resumes]\n",
    "    input_sequences = tokenizer.texts_to_sequences(preprocessed_resumes)\n",
    "    input_padded = pad_sequences(input_sequences, maxlen=max_length)\n",
    "    predictions = model.predict(input_padded)\n",
    "    predicted_classes = np.argmax(predictions, axis=1)\n",
    "    predicted_categories = label.inverse_transform(predicted_classes)\n",
    "    confidence_scores = np.max(predictions, axis=1) * 100 \n",
    "    return predicted_categories, confidence_scores"
   ]
  },
  {
   "cell_type": "code",
   "execution_count": 112,
   "id": "91982e21-3eb6-4695-9661-66d02322ac69",
   "metadata": {},
   "outputs": [],
   "source": [
    "def calculate_similarity(role, resumes):\n",
    "    role_vector = word_vectorizer.transform([role])\n",
    "    preprocessed_texts = [preprocess_text(text) for text in resumes]\n",
    "    tfidf_matrix = word_vectorizer.transform(preprocessed_texts)\n",
    "    similarity_scores = cosine_similarity(role_vector, tfidf_matrix).flatten()\n",
    "    return similarity_scores"
   ]
  },
  {
   "cell_type": "code",
   "execution_count": 113,
   "id": "cd605ea7-7cae-4947-b2a2-f93455ff810d",
   "metadata": {},
   "outputs": [],
   "source": [
    "pdf_files = [\"10030015.pdf\", \"10186968.pdf\", \"10219099.pdf\",\"10344379.pdf\",\"10466583.pdf\",\"10554236.pdf\",\"10624813.pdf\",\"10659182.pdf\",\"10674770.pdf\",\"10712803.pdf\" ]  \n"
   ]
  },
  {
   "cell_type": "code",
   "execution_count": 114,
   "id": "a512af07-5986-4d69-99a0-cace25e21b24",
   "metadata": {},
   "outputs": [],
   "source": [
    "resumes = pdfs(pdf_files)\n"
   ]
  },
  {
   "cell_type": "code",
   "execution_count": 115,
   "id": "d7c8d39c-422d-4f1b-9d3f-152e06d08822",
   "metadata": {},
   "outputs": [
    {
     "name": "stdout",
     "output_type": "stream",
     "text": [
      "\u001b[1m1/1\u001b[0m \u001b[32m━━━━━━━━━━━━━━━━━━━━\u001b[0m\u001b[37m\u001b[0m \u001b[1m0s\u001b[0m 308ms/step\n"
     ]
    }
   ],
   "source": [
    "predicted_categories, confidence_scores = predict_category_for_resumes(resumes)\n"
   ]
  },
  {
   "cell_type": "code",
   "execution_count": 116,
   "id": "effaf2a3-cf39-4c1f-80bc-ffa97ea631dd",
   "metadata": {},
   "outputs": [],
   "source": [
    "categories = df['Category'].unique"
   ]
  },
  {
   "cell_type": "code",
   "execution_count": 117,
   "id": "4ca620eb-2b7c-4e4f-a20b-b4a7f5a8b711",
   "metadata": {},
   "outputs": [
    {
     "name": "stdout",
     "output_type": "stream",
     "text": [
      "\u001b[1m1/1\u001b[0m \u001b[32m━━━━━━━━━━━━━━━━━━━━\u001b[0m\u001b[37m\u001b[0m \u001b[1m0s\u001b[0m 89ms/step\n"
     ]
    }
   ],
   "source": [
    "predicted_categories, confidence_scores = predict_category_for_resumes(resumes)\n"
   ]
  },
  {
   "cell_type": "code",
   "execution_count": 118,
   "id": "a0153953-baf1-48ba-b4d7-0a2f885afb7c",
   "metadata": {},
   "outputs": [
    {
     "name": "stdout",
     "output_type": "stream",
     "text": [
      "Resume 1:\n",
      "Predicted Category: Mechanical Engineer\n",
      "Confidence Score: 64.62%\n",
      "\n",
      "Resume 2:\n",
      "Predicted Category: Database\n",
      "Confidence Score: 54.91%\n",
      "\n",
      "Resume 3:\n",
      "Predicted Category: Database\n",
      "Confidence Score: 53.48%\n",
      "\n",
      "Resume 4:\n",
      "Predicted Category: Java Developer\n",
      "Confidence Score: 56.35%\n",
      "\n",
      "Resume 5:\n",
      "Predicted Category: Data Science\n",
      "Confidence Score: 74.92%\n",
      "\n",
      "Resume 6:\n",
      "Predicted Category: Automation Testing\n",
      "Confidence Score: 43.15%\n",
      "\n",
      "Resume 7:\n",
      "Predicted Category: DotNet Developer\n",
      "Confidence Score: 55.69%\n",
      "\n",
      "Resume 8:\n",
      "Predicted Category: Automation Testing\n",
      "Confidence Score: 56.22%\n",
      "\n",
      "Resume 9:\n",
      "Predicted Category: Database\n",
      "Confidence Score: 95.84%\n",
      "\n",
      "Resume 10:\n",
      "Predicted Category: Database\n",
      "Confidence Score: 59.63%\n",
      "\n"
     ]
    }
   ],
   "source": [
    "for i, resume in enumerate(resumes):\n",
    "    print(f\"Resume {i+1}:\")\n",
    "    print(f\"Predicted Category: {predicted_categories[i]}\")\n",
    "    print(f\"Confidence Score: {confidence_scores[i]:.2f}%\\n\")"
   ]
  },
  {
   "cell_type": "code",
   "execution_count": 119,
   "id": "ab9affbc-165a-4bfe-bad5-4ff4cc83f3a6",
   "metadata": {},
   "outputs": [],
   "source": [
    "# Save tokenizer for future use"
   ]
  },
  {
   "cell_type": "code",
   "execution_count": 120,
   "id": "1e925daf-9e24-4396-9820-9af9efed71b8",
   "metadata": {},
   "outputs": [],
   "source": [
    "\n",
    "# with open('resume_tokenizer.pkl', 'wb') as tokenizer_file:\n",
    "#     joblib.dump(tokenizer, tokenizer_file)"
   ]
  },
  {
   "cell_type": "code",
   "execution_count": null,
   "id": "5ed117a0-8267-42f5-817b-a58fff18b7c2",
   "metadata": {},
   "outputs": [],
   "source": []
  }
 ],
 "metadata": {
  "kernelspec": {
   "display_name": "Python 3 (ipykernel)",
   "language": "python",
   "name": "python3"
  },
  "language_info": {
   "codemirror_mode": {
    "name": "ipython",
    "version": 3
   },
   "file_extension": ".py",
   "mimetype": "text/x-python",
   "name": "python",
   "nbconvert_exporter": "python",
   "pygments_lexer": "ipython3",
   "version": "3.10.6"
  }
 },
 "nbformat": 4,
 "nbformat_minor": 5
}
